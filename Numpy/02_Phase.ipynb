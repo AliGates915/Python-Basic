{
 "cells": [
  {
   "cell_type": "code",
   "execution_count": 5,
   "metadata": {},
   "outputs": [],
   "source": [
    "import numpy as np # type: ignore"
   ]
  },
  {
   "cell_type": "code",
   "execution_count": 6,
   "metadata": {},
   "outputs": [
    {
     "name": "stdout",
     "output_type": "stream",
     "text": [
      "Access the Specific Element :  6\n",
      "Access the Specific Row :  [3 6]\n"
     ]
    }
   ],
   "source": [
    "arr_2d= np.array([[1,2,3],\n",
    "                  [4,5,6]])\n",
    "print(\"Access the 1 Row : \", arr_2d[1,2])\n",
    "print(\"Access the Specific Row : \", arr_2d[:,2])"
   ]
  },
  {
   "cell_type": "markdown",
   "metadata": {},
   "source": [
    "### Sorting"
   ]
  },
  {
   "cell_type": "code",
   "execution_count": 7,
   "metadata": {},
   "outputs": [
    {
     "name": "stdout",
     "output_type": "stream",
     "text": [
      "Sorted Array:  [ 1  2  3  4  5  7  8  9 10]\n"
     ]
    }
   ],
   "source": [
    "unsorted = np.array([1,2,5,3,8,9,4,7,10])\n",
    "print(\"Sorted Array: \", np.sort(unsorted))"
   ]
  },
  {
   "cell_type": "code",
   "execution_count": 15,
   "metadata": {},
   "outputs": [
    {
     "name": "stdout",
     "output_type": "stream",
     "text": [
      "Sorted 2D Array by Row [[1 1]\n",
      " [2 2]\n",
      " [3 3]]\n"
     ]
    }
   ],
   "source": [
    "arr_2d_unsorted = np.array([\n",
    "                          [3,1],\n",
    "                          [1,2],\n",
    "                          [2,3]\n",
    "                        ])\n",
    "print(\"Sorted 2D Array by Row\", np.sort(arr_2d_unsorted, axis=0))"
   ]
  },
  {
   "cell_type": "markdown",
   "metadata": {},
   "source": [
    "### Filter"
   ]
  },
  {
   "cell_type": "code",
   "execution_count": 19,
   "metadata": {},
   "outputs": [
    {
     "name": "stdout",
     "output_type": "stream",
     "text": [
      "Display the Even Number :  [ 0  2  4  6  8 10]\n",
      "Number greater than 5  [ 6  7  8  9 10]\n"
     ]
    }
   ],
   "source": [
    "number = np.arange(0,11)\n",
    "even_num = number[number % 2 == 0]\n",
    "print(\"Display the Even Number : \", even_num)\n",
    "\n",
    "# Filter with Mask\n",
    "mask = number > 5\n",
    "print(\"Number greater than 5 \", number[mask])"
   ]
  },
  {
   "cell_type": "markdown",
   "metadata": {},
   "source": [
    "### Fancy Indexing Vs np.where()"
   ]
  },
  {
   "cell_type": "code",
   "execution_count": 20,
   "metadata": {},
   "outputs": [
    {
     "name": "stdout",
     "output_type": "stream",
     "text": [
      "NP Where  [ 6  7  8  9 10]\n"
     ]
    }
   ],
   "source": [
    "where_res = np.where(number > 5)\n",
    "print(\"NP Where \", number[where_res])"
   ]
  },
  {
   "cell_type": "code",
   "execution_count": 21,
   "metadata": {},
   "outputs": [
    {
     "name": "stdout",
     "output_type": "stream",
     "text": [
      "Only numbers greater than 5 are doubled:  [ 0  1  2  3  4  5 12 14 16 18 20]\n"
     ]
    }
   ],
   "source": [
    "condition_arr = np.where(number > 5, number * 2, number)\n",
    "# if (number > 5) { number * 2} else {number}\n",
    "print(\"Only numbers greater than 5 are doubled: \", condition_arr)"
   ]
  },
  {
   "cell_type": "markdown",
   "metadata": {},
   "source": [
    "### Adding new Array"
   ]
  },
  {
   "cell_type": "code",
   "execution_count": 22,
   "metadata": {},
   "outputs": [
    {
     "name": "stdout",
     "output_type": "stream",
     "text": [
      "Adding new Array : [[1 2]\n",
      " [3 4]\n",
      " [4 5]]\n"
     ]
    }
   ],
   "source": [
    "original = np.array([[1,2],[3,4]])\n",
    "new_row = np.array([4,5])\n",
    "# vstack means vertical stack\n",
    "with_New = np.vstack((original, new_row))\n",
    "print(\"Adding new Array :\", with_New)"
   ]
  },
  {
   "cell_type": "code",
   "execution_count": 25,
   "metadata": {},
   "outputs": [
    {
     "name": "stdout",
     "output_type": "stream",
     "text": [
      "Adding new Array in Horizontal: [[1 7]\n",
      " [2 8]]\n"
     ]
    }
   ],
   "source": [
    "\n",
    "new_row2 = np.array([[7], [8]])\n",
    "# vstack means vertical stack\n",
    "with_New_col = np.hstack((original, new_row2))\n",
    "print(\"Adding new Array in Horizontal:\", with_New_col)"
   ]
  }
 ],
 "metadata": {
  "kernelspec": {
   "display_name": "base",
   "language": "python",
   "name": "python3"
  },
  "language_info": {
   "codemirror_mode": {
    "name": "ipython",
    "version": 3
   },
   "file_extension": ".py",
   "mimetype": "text/x-python",
   "name": "python",
   "nbconvert_exporter": "python",
   "pygments_lexer": "ipython3",
   "version": "3.12.7"
  }
 },
 "nbformat": 4,
 "nbformat_minor": 2
}
